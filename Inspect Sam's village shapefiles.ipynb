{
 "cells": [
  {
   "cell_type": "code",
   "execution_count": 3,
   "metadata": {},
   "outputs": [],
   "source": [
    "import numpy as np\n",
    "import pandas as pd\n",
    "import geopandas as gpd\n",
    "import os"
   ]
  },
  {
   "cell_type": "code",
   "execution_count": 4,
   "metadata": {},
   "outputs": [],
   "source": [
    "os.chdir(r\"C:\\Users\\dougj\\Documents\\GIS\\india village shapefiles\")\n",
    "df = gpd.read_file(\"pc11-towns-villages.shp\")"
   ]
  },
  {
   "cell_type": "code",
   "execution_count": 5,
   "metadata": {},
   "outputs": [
    {
     "data": {
      "text/plain": [
       "Index(['PolygonType', 'pc11_s_id', 'pc11_d_id', 'pc11_sd_id', 'pc11_v_id',\n",
       "       'point_lat', 'point_lon', 'LargePoly', 'geometry'],\n",
       "      dtype='object')"
      ]
     },
     "execution_count": 5,
     "metadata": {},
     "output_type": "execute_result"
    }
   ],
   "source": [
    "df.columns"
   ]
  },
  {
   "cell_type": "code",
   "execution_count": 7,
   "metadata": {},
   "outputs": [
    {
     "data": {
      "text/html": [
       "<div>\n",
       "<style scoped>\n",
       "    .dataframe tbody tr th:only-of-type {\n",
       "        vertical-align: middle;\n",
       "    }\n",
       "\n",
       "    .dataframe tbody tr th {\n",
       "        vertical-align: top;\n",
       "    }\n",
       "\n",
       "    .dataframe thead th {\n",
       "        text-align: right;\n",
       "    }\n",
       "</style>\n",
       "<table border=\"1\" class=\"dataframe\">\n",
       "  <thead>\n",
       "    <tr style=\"text-align: right;\">\n",
       "      <th></th>\n",
       "      <th>PolygonType</th>\n",
       "      <th>pc11_s_id</th>\n",
       "      <th>pc11_d_id</th>\n",
       "      <th>pc11_sd_id</th>\n",
       "      <th>pc11_v_id</th>\n",
       "      <th>point_lat</th>\n",
       "      <th>point_lon</th>\n",
       "      <th>LargePoly</th>\n",
       "      <th>geometry</th>\n",
       "    </tr>\n",
       "  </thead>\n",
       "  <tbody>\n",
       "    <tr>\n",
       "      <th>0</th>\n",
       "      <td>thiessen</td>\n",
       "      <td>35</td>\n",
       "      <td>638</td>\n",
       "      <td>05916</td>\n",
       "      <td>645012</td>\n",
       "      <td>9.239276</td>\n",
       "      <td>92.779396</td>\n",
       "      <td>0.0</td>\n",
       "      <td>POLYGON ((92.78708792 9.244797139999999, 92.78...</td>\n",
       "    </tr>\n",
       "    <tr>\n",
       "      <th>1</th>\n",
       "      <td>thiessen</td>\n",
       "      <td>35</td>\n",
       "      <td>638</td>\n",
       "      <td>05916</td>\n",
       "      <td>645024</td>\n",
       "      <td>9.214246</td>\n",
       "      <td>92.814735</td>\n",
       "      <td>0.0</td>\n",
       "      <td>POLYGON ((92.81900374999999 9.211967680000001,...</td>\n",
       "    </tr>\n",
       "    <tr>\n",
       "      <th>2</th>\n",
       "      <td>thiessen</td>\n",
       "      <td>35</td>\n",
       "      <td>638</td>\n",
       "      <td>05916</td>\n",
       "      <td>645022</td>\n",
       "      <td>9.207431</td>\n",
       "      <td>92.817322</td>\n",
       "      <td>0.0</td>\n",
       "      <td>POLYGON ((92.82146557999999 9.20451373, 92.816...</td>\n",
       "    </tr>\n",
       "    <tr>\n",
       "      <th>3</th>\n",
       "      <td>thiessen</td>\n",
       "      <td>35</td>\n",
       "      <td>638</td>\n",
       "      <td>05916</td>\n",
       "      <td>645020</td>\n",
       "      <td>9.199804</td>\n",
       "      <td>92.819595</td>\n",
       "      <td>0.0</td>\n",
       "      <td>POLYGON ((92.82560728 9.18926094, 92.815312000...</td>\n",
       "    </tr>\n",
       "    <tr>\n",
       "      <th>4</th>\n",
       "      <td>thiessen</td>\n",
       "      <td>35</td>\n",
       "      <td>638</td>\n",
       "      <td>05916</td>\n",
       "      <td>645021</td>\n",
       "      <td>9.200398</td>\n",
       "      <td>92.813202</td>\n",
       "      <td>0.0</td>\n",
       "      <td>POLYGON ((92.816676 9.203086000000001, 92.8153...</td>\n",
       "    </tr>\n",
       "  </tbody>\n",
       "</table>\n",
       "</div>"
      ],
      "text/plain": [
       "  PolygonType pc11_s_id pc11_d_id pc11_sd_id pc11_v_id  point_lat  point_lon  \\\n",
       "0    thiessen        35       638      05916    645012   9.239276  92.779396   \n",
       "1    thiessen        35       638      05916    645024   9.214246  92.814735   \n",
       "2    thiessen        35       638      05916    645022   9.207431  92.817322   \n",
       "3    thiessen        35       638      05916    645020   9.199804  92.819595   \n",
       "4    thiessen        35       638      05916    645021   9.200398  92.813202   \n",
       "\n",
       "   LargePoly                                           geometry  \n",
       "0        0.0  POLYGON ((92.78708792 9.244797139999999, 92.78...  \n",
       "1        0.0  POLYGON ((92.81900374999999 9.211967680000001,...  \n",
       "2        0.0  POLYGON ((92.82146557999999 9.20451373, 92.816...  \n",
       "3        0.0  POLYGON ((92.82560728 9.18926094, 92.815312000...  \n",
       "4        0.0  POLYGON ((92.816676 9.203086000000001, 92.8153...  "
      ]
     },
     "execution_count": 7,
     "metadata": {},
     "output_type": "execute_result"
    }
   ],
   "source": [
    "df.head()"
   ]
  },
  {
   "cell_type": "code",
   "execution_count": null,
   "metadata": {},
   "outputs": [],
   "source": []
  }
 ],
 "metadata": {
  "kernelspec": {
   "display_name": "Python 3",
   "language": "python",
   "name": "python3"
  },
  "language_info": {
   "codemirror_mode": {
    "name": "ipython",
    "version": 3
   },
   "file_extension": ".py",
   "mimetype": "text/x-python",
   "name": "python",
   "nbconvert_exporter": "python",
   "pygments_lexer": "ipython3",
   "version": "3.7.3"
  }
 },
 "nbformat": 4,
 "nbformat_minor": 2
}
