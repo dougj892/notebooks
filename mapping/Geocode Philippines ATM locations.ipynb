{
 "cells": [
  {
   "cell_type": "markdown",
   "metadata": {},
   "source": [
    "## Objective\n",
    "In this notebook, I...\n",
    "\n",
    "1. Get the GPS points for every ATM address uing the Google Maps and OpenStreetMap geocode services\n",
    "2. Calculate the distance between the two GPS points and flag instances where the distance is more than X\n",
    "3. Create a map of all the points using Folium\n",
    "\n",
    "## Python packages used and references\n",
    "\n",
    "* I use the google API for which I need an API key. I used code from the \"create basic google map\" notebook for this.\n",
    "* I use the [geopy package](https://geopy.readthedocs.io/en/stable/). The geopy package provides a consistent, simple python interface for several different geocoding packages including Google Maps and OSM (Nominatum).\n",
    "* I used this [blog post](https://thejoeblankenship.com/blogs/geopy_folium/geopy_folium.html)\n",
    "* I used the blog posts [here](https://towardsdatascience.com/geocode-with-python-161ec1e62b89) \n",
    "* I also use folium to map the output."
   ]
  },
  {
   "cell_type": "code",
   "execution_count": 38,
   "metadata": {},
   "outputs": [],
   "source": [
    "import os\n",
    "import geopy\n",
    "import pandas as pd\n",
    "import folium\n",
    "%matplotlib inline"
   ]
  },
  {
   "cell_type": "code",
   "execution_count": 39,
   "metadata": {},
   "outputs": [],
   "source": [
    "# get Google Maps API key\n",
    "os.chdir(\"/mnt/c/Users/dougj/Documents/GIS\")\n",
    "with open('google_api_key2.txt') as f:\n",
    "    api_key = f.readline()\n",
    "    f.close"
   ]
  },
  {
   "cell_type": "code",
   "execution_count": 57,
   "metadata": {},
   "outputs": [],
   "source": [
    "# import ATM address data from Robert\n",
    "os.chdir(\"/mnt/c/Users/dougj/Documents/Philippines cash transfer/Docs from Robert\")\n",
    "atm_locs = pd.read_excel(\"LBP ATM locations clean.xlsx\")"
   ]
  },
  {
   "cell_type": "code",
   "execution_count": 88,
   "metadata": {},
   "outputs": [],
   "source": [
    "# Get first address from dataframe\n",
    "first_address = atm_locs[\"ADDRESS\"][7]\n",
    "first_address = first_address + \", Philippines\"\n",
    "\n",
    "# Use google maps API to get location\n",
    "google_locator = geopy.GoogleV3(api_key=api_key)\n",
    "google_first_location = google_locator.geocode(first_address)\n",
    "\n",
    "# Use OSM API to get location\n",
    "osm_locator = geopy.Nominatim(user_agent=\"test_app\")\n",
    "osm_first_location = osm_locator.geocode(first_address)\n",
    "\n",
    "# Seems like OSM doesn't return anything.  Just using Google for now, but worth trying ESRI's paid geocode service later"
   ]
  },
  {
   "cell_type": "code",
   "execution_count": 87,
   "metadata": {},
   "outputs": [
    {
     "data": {
      "text/plain": [
       "Location(Constitution Hills, Batasan Pambansa Complex Diliman, Quezon City, Metro Manila, Philippines, (14.6921848, 121.098077, 0.0))"
      ]
     },
     "execution_count": 87,
     "metadata": {},
     "output_type": "execute_result"
    }
   ],
   "source": [
    "google_first_location"
   ]
  },
  {
   "cell_type": "code",
   "execution_count": 62,
   "metadata": {},
   "outputs": [],
   "source": [
    "# Store the first 10 rows in a new dataframe\n",
    "df = atm_locs.head(10)\n",
    "df.loc[:, 'ADDRESS']=  df[\"ADDRESS\"]+ \", Philippines\""
   ]
  },
  {
   "cell_type": "code",
   "execution_count": 89,
   "metadata": {},
   "outputs": [
    {
     "name": "stderr",
     "output_type": "stream",
     "text": [
      "/home/doug/anaconda3/lib/python3.7/site-packages/ipykernel_launcher.py:4: SettingWithCopyWarning: \n",
      "A value is trying to be set on a copy of a slice from a DataFrame.\n",
      "Try using .loc[row_indexer,col_indexer] = value instead\n",
      "\n",
      "See the caveats in the documentation: http://pandas.pydata.org/pandas-docs/stable/user_guide/indexing.html#returning-a-view-versus-a-copy\n",
      "  after removing the cwd from sys.path.\n",
      "/home/doug/anaconda3/lib/python3.7/site-packages/ipykernel_launcher.py:5: SettingWithCopyWarning: \n",
      "A value is trying to be set on a copy of a slice from a DataFrame.\n",
      "Try using .loc[row_indexer,col_indexer] = value instead\n",
      "\n",
      "See the caveats in the documentation: http://pandas.pydata.org/pandas-docs/stable/user_guide/indexing.html#returning-a-view-versus-a-copy\n",
      "  \"\"\"\n"
     ]
    }
   ],
   "source": [
    "# Get GPS points for the first few rows the Google Maps API\n",
    "from geopy.extra.rate_limiter import RateLimiter\n",
    "geocode = RateLimiter(google_locator.geocode, min_delay_seconds=1)\n",
    "df['location'] = df['ADDRESS'].apply(google_locator.geocode)\n",
    "df['point'] = df['location'].apply(lambda loc: tuple(loc.point) if loc else None)"
   ]
  },
  {
   "cell_type": "code",
   "execution_count": 104,
   "metadata": {},
   "outputs": [
    {
     "data": {
      "text/html": [
       "<div style=\"width:100%;\"><div style=\"position:relative;width:100%;height:0;padding-bottom:60%;\"><iframe src=\"about:blank\" style=\"position:absolute;width:100%;height:100%;left:0;top:0;border:none !important;\" data-html=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 onload=\"this.contentDocument.open();this.contentDocument.write(atob(this.getAttribute('data-html')));this.contentDocument.close();\" allowfullscreen webkitallowfullscreen mozallowfullscreen></iframe></div></div>"
      ],
      "text/plain": [
       "<folium.folium.Map at 0x7f301ee1e810>"
      ]
     },
     "execution_count": 104,
     "metadata": {},
     "output_type": "execute_result"
    }
   ],
   "source": [
    "# Plot the map with all of the points\n",
    "phil_map = folium.Map(location = [df.point[0][0], df.point[0][1]], tiles='OpenStreetMap', zoom_start=12)\n",
    "\n",
    "feature_group = folium.FeatureGroup(\"Locations\")\n",
    "for index, row in df.iterrows():\n",
    "    feature_group.add_child(folium.Marker(location=[row.point[0],row.point[1]],popup=row.GROUP))\n",
    "phil_map.add_child(feature_group)"
   ]
  },
  {
   "cell_type": "code",
   "execution_count": null,
   "metadata": {},
   "outputs": [],
   "source": []
  }
 ],
 "metadata": {
  "kernelspec": {
   "display_name": "Python 3",
   "language": "python",
   "name": "python3"
  },
  "language_info": {
   "codemirror_mode": {
    "name": "ipython",
    "version": 3
   },
   "file_extension": ".py",
   "mimetype": "text/x-python",
   "name": "python",
   "nbconvert_exporter": "python",
   "pygments_lexer": "ipython3",
   "version": "3.7.6"
  }
 },
 "nbformat": 4,
 "nbformat_minor": 2
}
