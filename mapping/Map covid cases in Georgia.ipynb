{
 "cells": [
  {
   "cell_type": "markdown",
   "metadata": {},
   "source": [
    "## Map the incidence of Covid in Georgia\n",
    "Create a simple chloropleth using the New York Times data on covid cases by county"
   ]
  },
  {
   "cell_type": "code",
   "execution_count": 1,
   "metadata": {},
   "outputs": [],
   "source": [
    "import os\n",
    "import geopandas as gpd\n",
    "import pandas as pd\n",
    "import numpy as np\n",
    "%matplotlib inline"
   ]
  },
  {
   "cell_type": "code",
   "execution_count": 2,
   "metadata": {},
   "outputs": [],
   "source": [
    "# Read in data from the New York Times github page\n",
    "url = \"https://raw.githubusercontent.com/nytimes/covid-19-data/master/us-counties.csv\"\n",
    "county_cases = pd.read_csv(url)"
   ]
  },
  {
   "cell_type": "code",
   "execution_count": 3,
   "metadata": {},
   "outputs": [],
   "source": [
    "# Create a graph showing the number of cases over time for Clarke, Oconee, Madison, Barrow, and Jackson counties\n",
    "# Note that the cases variable is cumulative and not new cases\n",
    "home_cases = county_cases[county_cases.county.isin(['Clarke', 'Oconee', 'Madison', 'Barrow', 'Jackson']) & (county_cases.state == 'Georgia')]"
   ]
  },
  {
   "cell_type": "code",
   "execution_count": 10,
   "metadata": {},
   "outputs": [
    {
     "data": {
      "text/plain": [
       "date\n",
       "2020-03-15    0\n",
       "2020-03-16    0\n",
       "2020-03-17    0\n",
       "2020-03-18    0\n",
       "2020-03-19    0\n",
       "2020-03-20    0\n",
       "2020-03-21    0\n",
       "2020-03-22    1\n",
       "2020-03-23    1\n",
       "2020-03-24    1\n",
       "2020-03-25    1\n",
       "2020-03-26    1\n",
       "2020-03-27    3\n",
       "2020-03-28    3\n",
       "2020-03-29    3\n",
       "2020-03-30    8\n",
       "Name: deaths, dtype: int64"
      ]
     },
     "execution_count": 10,
     "metadata": {},
     "output_type": "execute_result"
    }
   ],
   "source": [
    "home_cases.groupby('date')['deaths'].sum()"
   ]
  },
  {
   "cell_type": "code",
   "execution_count": null,
   "metadata": {},
   "outputs": [],
   "source": []
  }
 ],
 "metadata": {
  "kernelspec": {
   "display_name": "Python 3",
   "language": "python",
   "name": "python3"
  },
  "language_info": {
   "codemirror_mode": {
    "name": "ipython",
    "version": 3
   },
   "file_extension": ".py",
   "mimetype": "text/x-python",
   "name": "python",
   "nbconvert_exporter": "python",
   "pygments_lexer": "ipython3",
   "version": "3.7.6"
  }
 },
 "nbformat": 4,
 "nbformat_minor": 2
}
