{
 "cells": [
  {
   "cell_type": "code",
   "execution_count": 1,
   "metadata": {
    "collapsed": true
   },
   "outputs": [
    {
     "name": "stdout",
     "output_type": "stream",
     "text": [
      "Name: Rhedenstraße\n",
      "  Highway: residential\n",
      "  Nodes:\n",
      "    Lat: 50.746874, Lon: 7.156307\n",
      "    Lat: 50.746598, Lon: 7.156237\n",
      "    Lat: 50.746477, Lon: 7.156199\n",
      "    Lat: 50.746360, Lon: 7.156124\n",
      "    Lat: 50.746263, Lon: 7.156023\n",
      "    Lat: 50.746194, Lon: 7.155926\n",
      "    Lat: 50.746139, Lon: 7.155843\n",
      "Name: Von-Ketteler-Straße\n",
      "  Highway: residential\n",
      "  Nodes:\n",
      "    Lat: 50.746905, Lon: 7.155786\n",
      "    Lat: 50.747222, Lon: 7.155621\n",
      "Name: Mutter-Barat-Straße\n",
      "  Highway: residential\n",
      "  Nodes:\n",
      "    Lat: 50.747989, Lon: 7.156302\n",
      "    Lat: 50.747934, Lon: 7.156229\n",
      "    Lat: 50.747695, Lon: 7.155421\n",
      "    Lat: 50.747605, Lon: 7.155159\n",
      "    Lat: 50.747241, Lon: 7.154310\n",
      "    Lat: 50.746939, Lon: 7.153634\n",
      "Name: Stegerwaldstraße\n",
      "  Highway: residential\n",
      "  Nodes:\n",
      "    Lat: 50.747853, Lon: 7.153685\n",
      "    Lat: 50.747666, Lon: 7.154022\n",
      "    Lat: 50.747673, Lon: 7.154122\n",
      "    Lat: 50.747939, Lon: 7.154603\n",
      "    Lat: 50.748182, Lon: 7.155178\n",
      "    Lat: 50.748318, Lon: 7.155590\n",
      "    Lat: 50.748362, Lon: 7.155646\n",
      "Name: Alte Schulstraße\n",
      "  Highway: residential\n",
      "  Nodes:\n",
      "    Lat: 50.747537, Lon: 7.158000\n",
      "    Lat: 50.747544, Lon: 7.157841\n",
      "    Lat: 50.747554, Lon: 7.157667\n",
      "    Lat: 50.747582, Lon: 7.157470\n",
      "    Lat: 50.747620, Lon: 7.157314\n",
      "    Lat: 50.747672, Lon: 7.157152\n",
      "    Lat: 50.747732, Lon: 7.157026\n",
      "    Lat: 50.747882, Lon: 7.156751\n",
      "    Lat: 50.748061, Lon: 7.156421\n",
      "    Lat: 50.748213, Lon: 7.156179\n",
      "    Lat: 50.748263, Lon: 7.156042\n",
      "    Lat: 50.748429, Lon: 7.155750\n",
      "    Lat: 50.748831, Lon: 7.155019\n",
      "    Lat: 50.749089, Lon: 7.154576\n",
      "    Lat: 50.749207, Lon: 7.154365\n",
      "    Lat: 50.749501, Lon: 7.153915\n",
      "    Lat: 50.749608, Lon: 7.153750\n",
      "    Lat: 50.749800, Lon: 7.153468\n",
      "    Lat: 50.749847, Lon: 7.153398\n",
      "    Lat: 50.750132, Lon: 7.152963\n",
      "    Lat: 50.750224, Lon: 7.152842\n",
      "Name: n/a\n",
      "  Highway: service\n",
      "  Nodes:\n",
      "    Lat: 50.746079, Lon: 7.154944\n",
      "    Lat: 50.745963, Lon: 7.154580\n",
      "    Lat: 50.745662, Lon: 7.154815\n",
      "    Lat: 50.745788, Lon: 7.155202\n",
      "Name: Mutter-Barat-Straße\n",
      "  Highway: footway\n",
      "  Nodes:\n",
      "    Lat: 50.748061, Lon: 7.156421\n",
      "    Lat: 50.747989, Lon: 7.156302\n",
      "Name: Von-Ketteler-Straße\n",
      "  Highway: residential\n",
      "  Nodes:\n",
      "    Lat: 50.747335, Lon: 7.152963\n",
      "    Lat: 50.746992, Lon: 7.153544\n",
      "    Lat: 50.746939, Lon: 7.153634\n",
      "    Lat: 50.746733, Lon: 7.154001\n",
      "    Lat: 50.746657, Lon: 7.154135\n",
      "    Lat: 50.746585, Lon: 7.154273\n",
      "    Lat: 50.746562, Lon: 7.154380\n",
      "    Lat: 50.746560, Lon: 7.154508\n",
      "    Lat: 50.746581, Lon: 7.154655\n",
      "    Lat: 50.746868, Lon: 7.155638\n",
      "    Lat: 50.746905, Lon: 7.155786\n",
      "    Lat: 50.746912, Lon: 7.155892\n",
      "    Lat: 50.746902, Lon: 7.156003\n",
      "    Lat: 50.746874, Lon: 7.156307\n",
      "    Lat: 50.746809, Lon: 7.156921\n",
      "    Lat: 50.746751, Lon: 7.157490\n",
      "Name: Von-Ketteler-Straße\n",
      "  Highway: service\n",
      "  Nodes:\n",
      "    Lat: 50.746562, Lon: 7.154380\n",
      "    Lat: 50.746165, Lon: 7.154428\n",
      "    Lat: 50.745963, Lon: 7.154580\n",
      "    Lat: 50.745895, Lon: 7.154570\n",
      "    Lat: 50.745810, Lon: 7.154439\n",
      "Name: n/a\n",
      "  Highway: footway\n",
      "  Nodes:\n",
      "    Lat: 50.746733, Lon: 7.154001\n",
      "    Lat: 50.746488, Lon: 7.153662\n"
     ]
    }
   ],
   "source": [
    "import overpy\n",
    "\n",
    "api = overpy.Overpass()\n",
    "\n",
    "# fetch all ways and nodes\n",
    "result = api.query(\"\"\"\n",
    "    way(50.746,7.154,50.748,7.157) [\"highway\"];\n",
    "    (._;>;);\n",
    "    out body;\n",
    "    \"\"\")\n",
    "\n",
    "for way in result.ways:\n",
    "    print(\"Name: %s\" % way.tags.get(\"name\", \"n/a\"))\n",
    "    print(\"  Highway: %s\" % way.tags.get(\"highway\", \"n/a\"))\n",
    "    print(\"  Nodes:\")\n",
    "    for node in way.nodes:\n",
    "        print(\"    Lat: %f, Lon: %f\" % (node.lat, node.lon))"
   ]
  },
  {
   "cell_type": "code",
   "execution_count": 3,
   "metadata": {},
   "outputs": [
    {
     "data": {
      "text/plain": [
       "<overpy.Result at 0x227f1fb53c8>"
      ]
     },
     "execution_count": 3,
     "metadata": {},
     "output_type": "execute_result"
    }
   ],
   "source": [
    "result2"
   ]
  },
  {
   "cell_type": "code",
   "execution_count": null,
   "metadata": {},
   "outputs": [],
   "source": []
  }
 ],
 "metadata": {
  "kernelspec": {
   "display_name": "Python 3",
   "language": "python",
   "name": "python3"
  },
  "language_info": {
   "codemirror_mode": {
    "name": "ipython",
    "version": 3
   },
   "file_extension": ".py",
   "mimetype": "text/x-python",
   "name": "python",
   "nbconvert_exporter": "python",
   "pygments_lexer": "ipython3",
   "version": "3.7.3"
  }
 },
 "nbformat": 4,
 "nbformat_minor": 2
}
