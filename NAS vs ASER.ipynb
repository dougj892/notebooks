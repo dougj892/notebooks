{
 "cells": [
  {
   "cell_type": "markdown",
   "metadata": {},
   "source": [
    "# Replicate Andres's NAS vs ASER scatterplot\n",
    "This notebook compares ASER 2018 data with NAS 2017 data.  ASER and NAS differ in both sampling and the assessment tool used. I provide a brief recap of ASER and NAS and then discuss what data is used for this comparison. The ASER Centre has put together a good comparison of the two surveys [here](https://img.asercentre.org/docs/Bottom%20Panel/Key%20Docs/nas_stdvvs_aser.pdf)\n",
    "\n",
    "## ASER\n",
    "1. Frequency\n",
    "    1. Basic survey conducted every other year\n",
    "2. Sampling\n",
    "    1. Only rural areas covered\n",
    "    2. In each rural district, 30 villages are selected using PPS.  In each village, 20 households are selected using the right-hand rule\n",
    "    3. Survey is conducted at home rather than in school. Thus, results not affected by enrollment / attendance.\n",
    "    4. All children 5-16 years old, regardless of school enrollment, are administered the assessment. (In addition, data on enrollment is collected for 3 and 4 year olds\n",
    "3. Data collected\n",
    "    1. Assessment tests basic reading and math.  \n",
    "        a. Read levels are not even letters, letters, word, std 1 text, std 2 text\n",
    "        b. Math levels are not even 1-9, 1-9 numbers, 10-99 numbers, substract, and divide\n",
    "    2. Basic household details and school attendance (e.g. whether public or private) also collected\n",
    "4. Other\n",
    "    1. ASER is carried out through local partners who rely on volunteers\n",
    "    2. There are some internal and third party checks, but these seem to be pretty minimal\n",
    "    3. The assessment is administered one-on-one by the enumerators who read out the questions to the child being assessed.\n",
    "    4. ASER uses weights when calculating state and national figures\n",
    "\n",
    "\n",
    "## NAS\n",
    "NCERT has been conducting NAS since 2001 but in previous years they only collected data for a single grade at a time. (For example, they collected data for class 5 in academic year 2001-02, for class 8 in academic year 2002-03, and for class 3 in academic year 2003-04.  See [here](http://www.ncert.nic.in/programmes/NAS/pdf/DRC_report.pdf) page 6 for more info.) In addition, the sample sizes in previous years were smaller (they were only intended to be representative at the state level) and the assessment tool used was different. \n",
    "\n",
    "\n",
    "1. Frequency\n",
    "    1. Previous versions of the NAS were carried out every year.  There has only been one instance in which NAS has been carried out in its current form (in 2017)\n",
    "2. Sampling\n",
    "    1. Schools are selected from UDISE using PPS (according to the ASER note on the NAS)\n",
    "    2. Only government schools (and maybe private aided - not sure) included\n",
    "    2. Grades 3, 5, and 8 covered\n",
    "3. Data collected\n",
    "    1. Test language, math, and environmental science\n",
    "    2. Seems like they also collect basic data about the school\n",
    "4. Other\n",
    "    1. Paper and pencil test\n",
    "    2. Estimates are not weighted (actual enrollment varied quite a bit from figures in USIDE so ideally should have used weights\n",
    "    \n",
    "## Comparing ASER and NAS\n",
    "As per Andres, I attempt to make ASER and NAS as similar as possible by...\n",
    "1. Restricting NAS to rural districts\n",
    "2. Focusing only on students who attend government schools\n",
    "3. \n"
   ]
  },
  {
   "cell_type": "code",
   "execution_count": 4,
   "metadata": {},
   "outputs": [],
   "source": [
    "import pandas as pd\n",
    "import plotnine as p9\n",
    "import os"
   ]
  },
  {
   "cell_type": "code",
   "execution_count": 6,
   "metadata": {},
   "outputs": [],
   "source": [
    "data_dir = \"/mnt/c/Users/dougj/Documents/Data/Education\"\n",
    "os.chdir(data_dir)"
   ]
  },
  {
   "cell_type": "code",
   "execution_count": 17,
   "metadata": {},
   "outputs": [
    {
     "ename": "SyntaxError",
     "evalue": "keyword can't be an expression (<ipython-input-17-a7cc17115fea>, line 8)",
     "output_type": "error",
     "traceback": [
      "\u001b[0;36m  File \u001b[0;32m\"<ipython-input-17-a7cc17115fea>\"\u001b[0;36m, line \u001b[0;32m8\u001b[0m\n\u001b[0;31m    scale_y_continuous(breaks=range(1,29)) + scale_x_continuous(breaks=range(1,29))  + theme(panel.grid.minor =   element_blank(),\u001b[0m\n\u001b[0m                                                                                            ^\u001b[0m\n\u001b[0;31mSyntaxError\u001b[0m\u001b[0;31m:\u001b[0m keyword can't be an expression\n"
     ]
    }
   ],
   "source": [
    "main_data <- pd.read_csv(\"ASER 2018 and NAS 2017 grade 3 reading.csv\")\n",
    "(ggplot(data = main_data,aes=aes(x=aser_rank,y=nas_rank,label= State)) + geom_abline(intercept = 0, slope = 1, color=\"orange\")  +\n",
    "  geom_abline(intercept = -6, slope = 1, color=\"gray\", lwd=1, lty=2) +\n",
    "  geom_abline(intercept = 6, slope = 1, color=\"gray\", lwd=1, lty=2) +\n",
    "  geom_point(color=\"darkblue\")  +\n",
    "  theme_bw() + labs(title=\"State Rankings Based on Language Results for Std III Students (Rural)\", \n",
    "                    x = \"Rank in ASER (2018)\", y = \"Rank in NAS (2017)\") + \n",
    "   scale_y_continuous(breaks=range(1,29)) + scale_x_continuous(breaks=range(1,29))  + theme(panel.grid.minor =   element_blank(),\n",
    "   panel.grid.major =   element_line(colour = \"gray\",size=0.1)) + geom_label_repel() )\n"
   ]
  },
  {
   "cell_type": "code",
   "execution_count": 15,
   "metadata": {},
   "outputs": [
    {
     "name": "stdout",
     "output_type": "stream",
     "text": [
      "Object `ggplot` not found.\n"
     ]
    }
   ],
   "source": []
  },
  {
   "cell_type": "code",
   "execution_count": null,
   "metadata": {},
   "outputs": [],
   "source": []
  }
 ],
 "metadata": {
  "kernelspec": {
   "display_name": "Python 3",
   "language": "python",
   "name": "python3"
  },
  "language_info": {
   "codemirror_mode": {
    "name": "ipython",
    "version": 3
   },
   "file_extension": ".py",
   "mimetype": "text/x-python",
   "name": "python",
   "nbconvert_exporter": "python",
   "pygments_lexer": "ipython3",
   "version": "3.7.6"
  }
 },
 "nbformat": 4,
 "nbformat_minor": 2
}
