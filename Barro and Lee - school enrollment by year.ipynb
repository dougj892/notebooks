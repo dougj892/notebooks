{
 "cells": [
  {
   "cell_type": "markdown",
   "metadata": {},
   "source": [
    "# Analyze enrollment data by year"
   ]
  },
  {
   "cell_type": "code",
   "execution_count": 4,
   "metadata": {},
   "outputs": [],
   "source": [
    "import pandas as pd\n",
    "import numpy as np\n",
    "import os\n",
    "import matplotlib\n",
    "import matplotlib.pyplot as plt\n",
    "\n",
    "os.chdir(r\"C:\\Users\\dougj\\Documents\\Data\\Education\")"
   ]
  },
  {
   "cell_type": "code",
   "execution_count": 5,
   "metadata": {},
   "outputs": [],
   "source": [
    "df= pd.read_csv(\"BL2013_MF_v2.2.csv\")"
   ]
  },
  {
   "cell_type": "code",
   "execution_count": 17,
   "metadata": {},
   "outputs": [
    {
     "data": {
      "text/html": [
       "<div>\n",
       "<style scoped>\n",
       "    .dataframe tbody tr th:only-of-type {\n",
       "        vertical-align: middle;\n",
       "    }\n",
       "\n",
       "    .dataframe tbody tr th {\n",
       "        vertical-align: top;\n",
       "    }\n",
       "\n",
       "    .dataframe thead th {\n",
       "        text-align: right;\n",
       "    }\n",
       "</style>\n",
       "<table border=\"1\" class=\"dataframe\">\n",
       "  <thead>\n",
       "    <tr style=\"text-align: right;\">\n",
       "      <th></th>\n",
       "      <th>agefrom</th>\n",
       "      <th>ageto</th>\n",
       "      <th>yr_sch</th>\n",
       "      <th>pop</th>\n",
       "    </tr>\n",
       "  </thead>\n",
       "  <tbody>\n",
       "    <tr>\n",
       "      <th>12870</th>\n",
       "      <td>15</td>\n",
       "      <td>19</td>\n",
       "      <td>1.15</td>\n",
       "      <td>36848.0</td>\n",
       "    </tr>\n",
       "    <tr>\n",
       "      <th>12871</th>\n",
       "      <td>20</td>\n",
       "      <td>24</td>\n",
       "      <td>1.16</td>\n",
       "      <td>32430.0</td>\n",
       "    </tr>\n",
       "    <tr>\n",
       "      <th>12872</th>\n",
       "      <td>25</td>\n",
       "      <td>29</td>\n",
       "      <td>1.07</td>\n",
       "      <td>27990.0</td>\n",
       "    </tr>\n",
       "    <tr>\n",
       "      <th>12873</th>\n",
       "      <td>30</td>\n",
       "      <td>34</td>\n",
       "      <td>1.07</td>\n",
       "      <td>24208.0</td>\n",
       "    </tr>\n",
       "    <tr>\n",
       "      <th>12874</th>\n",
       "      <td>35</td>\n",
       "      <td>39</td>\n",
       "      <td>0.95</td>\n",
       "      <td>21007.0</td>\n",
       "    </tr>\n",
       "    <tr>\n",
       "      <th>12875</th>\n",
       "      <td>40</td>\n",
       "      <td>44</td>\n",
       "      <td>0.95</td>\n",
       "      <td>17969.0</td>\n",
       "    </tr>\n",
       "    <tr>\n",
       "      <th>12876</th>\n",
       "      <td>45</td>\n",
       "      <td>49</td>\n",
       "      <td>0.95</td>\n",
       "      <td>14987.0</td>\n",
       "    </tr>\n",
       "    <tr>\n",
       "      <th>12877</th>\n",
       "      <td>50</td>\n",
       "      <td>54</td>\n",
       "      <td>0.77</td>\n",
       "      <td>12560.0</td>\n",
       "    </tr>\n",
       "    <tr>\n",
       "      <th>12878</th>\n",
       "      <td>55</td>\n",
       "      <td>59</td>\n",
       "      <td>0.74</td>\n",
       "      <td>10308.0</td>\n",
       "    </tr>\n",
       "    <tr>\n",
       "      <th>12879</th>\n",
       "      <td>60</td>\n",
       "      <td>64</td>\n",
       "      <td>0.60</td>\n",
       "      <td>8127.0</td>\n",
       "    </tr>\n",
       "    <tr>\n",
       "      <th>12880</th>\n",
       "      <td>65</td>\n",
       "      <td>69</td>\n",
       "      <td>0.59</td>\n",
       "      <td>5339.0</td>\n",
       "    </tr>\n",
       "    <tr>\n",
       "      <th>12881</th>\n",
       "      <td>70</td>\n",
       "      <td>74</td>\n",
       "      <td>0.58</td>\n",
       "      <td>3776.0</td>\n",
       "    </tr>\n",
       "    <tr>\n",
       "      <th>12882</th>\n",
       "      <td>75</td>\n",
       "      <td>999</td>\n",
       "      <td>0.58</td>\n",
       "      <td>2856.0</td>\n",
       "    </tr>\n",
       "    <tr>\n",
       "      <th>12883</th>\n",
       "      <td>25</td>\n",
       "      <td>999</td>\n",
       "      <td>0.92</td>\n",
       "      <td>149127.0</td>\n",
       "    </tr>\n",
       "    <tr>\n",
       "      <th>12884</th>\n",
       "      <td>15</td>\n",
       "      <td>999</td>\n",
       "      <td>0.99</td>\n",
       "      <td>218405.0</td>\n",
       "    </tr>\n",
       "  </tbody>\n",
       "</table>\n",
       "</div>"
      ],
      "text/plain": [
       "       agefrom  ageto  yr_sch       pop\n",
       "12870       15     19    1.15   36848.0\n",
       "12871       20     24    1.16   32430.0\n",
       "12872       25     29    1.07   27990.0\n",
       "12873       30     34    1.07   24208.0\n",
       "12874       35     39    0.95   21007.0\n",
       "12875       40     44    0.95   17969.0\n",
       "12876       45     49    0.95   14987.0\n",
       "12877       50     54    0.77   12560.0\n",
       "12878       55     59    0.74   10308.0\n",
       "12879       60     64    0.60    8127.0\n",
       "12880       65     69    0.59    5339.0\n",
       "12881       70     74    0.58    3776.0\n",
       "12882       75    999    0.58    2856.0\n",
       "12883       25    999    0.92  149127.0\n",
       "12884       15    999    0.99  218405.0"
      ]
     },
     "execution_count": 17,
     "metadata": {},
     "output_type": "execute_result"
    }
   ],
   "source": [
    "# calculate average years of schooling for all India in 1950\n",
    "india_1950 = df[(df.year == 1950) & (df.country == \"India\")]\n",
    "india_1950 = india_1950[['agefrom', 'ageto', 'yr_sch', 'pop']]\n",
    "india_1950"
   ]
  },
  {
   "cell_type": "code",
   "execution_count": 27,
   "metadata": {},
   "outputs": [
    {
     "data": {
      "text/plain": [
       "0.972289495287036"
      ]
     },
     "execution_count": 27,
     "metadata": {},
     "output_type": "execute_result"
    }
   ],
   "source": [
    "# create weighted average of years of school\n",
    "np.average(india_1950.yr_sch, weights = india_1950['pop'])"
   ]
  },
  {
   "cell_type": "code",
   "execution_count": null,
   "metadata": {},
   "outputs": [],
   "source": []
  }
 ],
 "metadata": {
  "kernelspec": {
   "display_name": "Python 3",
   "language": "python",
   "name": "python3"
  },
  "language_info": {
   "codemirror_mode": {
    "name": "ipython",
    "version": 3
   },
   "file_extension": ".py",
   "mimetype": "text/x-python",
   "name": "python",
   "nbconvert_exporter": "python",
   "pygments_lexer": "ipython3",
   "version": "3.7.3"
  }
 },
 "nbformat": 4,
 "nbformat_minor": 2
}
