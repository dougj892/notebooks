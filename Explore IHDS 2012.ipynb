{
 "cells": [
  {
   "cell_type": "markdown",
   "metadata": {},
   "source": [
    "# Variables to import\n",
    "### Identifiers and other vars\n",
    "* STATEID\n",
    "* PSUID\n",
    "* HHID\n",
    "* HHSPLITID\n",
    "* PERSONID\n",
    "* IDPSU - this one might be unique, not sure\n",
    "* WT - weights\n",
    "* RO3 - sex\n",
    "* RO7 - primary activity status\n",
    "* RO5 - Age\n",
    "\n",
    "\n",
    "### Testing vars  for children 8-11 (page 38 of questionnaire)\n",
    "* TA8A, TA8B, TA9A, TA9B, TA10A, TA10B -- Reading, math, and writing test results (and the language they were administered in)\n",
    "* TA* - other vars related to ASER test\n",
    "\n",
    "### Education vars for all members (page 23 of questionnaire)\n",
    "* ED2-ED12 -- various variables for \n",
    "\n",
    "### Education vars all hh members who were enrolled in school in previous 12 months (page 44 of questionnaire)\n",
    "* CS3 - in school\n",
    "* CS4 - type of school\n",
    "* CS5 - distance to school\n",
    "* CS6 - standard years\n",
    "* CS8 - medium of instruction\n",
    "* CS9 - year English taught\n",
    "* CS10 - school hours per week\n",
    "* CS11 - homework hours per week\n",
    "* CS12 - private tuition hours per week\n",
    "* CS13 - days / months absent\n",
    "* (and many more)\n",
    "\n",
    "### Education vars for children 8-11 (page 46 of questionnaire)\n",
    "* CH* "
   ]
  },
  {
   "cell_type": "code",
   "execution_count": 1,
   "metadata": {},
   "outputs": [],
   "source": [
    "import pandas as pd\n",
    "import numpy as np\n",
    "import os\n",
    "import matplotlib\n",
    "import matplotlib.pyplot as plt\n",
    "from plotnine import * "
   ]
  },
  {
   "cell_type": "code",
   "execution_count": 20,
   "metadata": {},
   "outputs": [
    {
     "data": {
      "text/plain": [
       "(204569, 337)"
      ]
     },
     "execution_count": 20,
     "metadata": {},
     "output_type": "execute_result"
    }
   ],
   "source": [
    "# Go to the folder for the \"individual\" dataset\n",
    "os.chdir(r\"C:\\Users\\dougj\\Documents\\Data\\IHDS\\IHDS 2012\\DS0001\")\n",
    "df = pd.read_stata(\"36151-0001-Data.dta\")\n",
    "df.shape"
   ]
  },
  {
   "cell_type": "code",
   "execution_count": 41,
   "metadata": {},
   "outputs": [
    {
     "name": "stdout",
     "output_type": "stream",
     "text": [
      "['ED2', 'ED3', 'ED4', 'ED5', 'ED6', 'EDUC7', 'EDUNDER1', 'ED7', 'ED8', 'ED9', 'ED10', 'ED11', 'ED12', 'ED13', 'TA3', 'TA4', 'TA5', 'TA6', 'TA8A', 'TA8B', 'TA9A', 'TA9B', 'TA10A', 'TA10B', 'CS3', 'CS3Y', 'CS4', 'CS5', 'CS6', 'CS7', 'CS8', 'CS9', 'CS10', 'CS11', 'CS12', 'CS13', 'CS16', 'CS17', 'CS18', 'CS19', 'CS20', 'CS21', 'CS22', 'CS23', 'CS24', 'CS25', 'CS26', 'CS27', 'CS28', 'STATEID', 'PSUID', 'HHID', 'HHSPLITID', 'PERSONID', 'IDPSU', 'WT', 'RO3', 'RO5', 'RO7']\n"
     ]
    }
   ],
   "source": [
    "# generate a list of all the columns to keep\n",
    "import re\n",
    "r = re.compile(r\"((CS)|(CSF)|(ED)|(TA)).*\")\n",
    "cols2keep = [r.match(col).group() for col in df.columns if r.match(col)]\n",
    "cols2keep.extend(['STATEID', 'PSUID', 'HHID', 'HHSPLITID', 'PERSONID', 'IDPSU', 'WT', 'RO3', 'RO5', 'RO7'])\n",
    "print(cols2keep)\n",
    "df = df.filter(items = cols2keep)"
   ]
  },
  {
   "cell_type": "code",
   "execution_count": 16,
   "metadata": {},
   "outputs": [
    {
     "data": {
      "text/plain": [
       "Story 4          0.283703\n",
       "NaN              0.204666\n",
       "Words 2          0.160999\n",
       "Paragraph 3      0.152700\n",
       "Letters 1        0.110461\n",
       "Cannot read 0    0.087471\n",
       "Name: TA8B, dtype: float64"
      ]
     },
     "execution_count": 16,
     "metadata": {},
     "output_type": "execute_result"
    }
   ],
   "source": [
    "# Look at response rates for the reading exam\n",
    "df[(df['RO5']>=8) & (df['RO5']<=11)]['TA8B'].value_counts(dropna = False, normalize = True) # looks like %20.5 non-reponse"
   ]
  },
  {
   "cell_type": "code",
   "execution_count": 17,
   "metadata": {},
   "outputs": [
    {
     "data": {
      "text/plain": [
       "Numbers 1             0.284995\n",
       "Subtraction 2         0.238199\n",
       "NaN                   0.207999\n",
       "Division 3            0.144810\n",
       "Cannot recognise 0    0.123997\n",
       "Name: TA9B, dtype: float64"
      ]
     },
     "execution_count": 17,
     "metadata": {},
     "output_type": "execute_result"
    }
   ],
   "source": [
    "# Look at respons rates for the math exam\n",
    "df[(df['RO5']>=8) & (df['RO5']<=11)]['TA9B'].value_counts(dropna = False, normalize = True) # looks like the response rate is similar"
   ]
  },
  {
   "cell_type": "code",
   "execution_count": 18,
   "metadata": {},
   "outputs": [
    {
     "data": {
      "text/plain": [
       "No mistake 2      0.301796\n",
       "1-2 mistakes 1    0.289212\n",
       "NaN               0.212692\n",
       "Cannot write 0    0.196300\n",
       "Name: TA10B, dtype: float64"
      ]
     },
     "execution_count": 18,
     "metadata": {},
     "output_type": "execute_result"
    }
   ],
   "source": [
    "# Look at response rates for the writing exam\n",
    "df[(df['RO5']>=8) & (df['RO5']<=11)]['TA10B'].value_counts(dropna = False, normalize = True) # non-response slightly higher"
   ]
  },
  {
   "cell_type": "code",
   "execution_count": null,
   "metadata": {},
   "outputs": [],
   "source": []
  }
 ],
 "metadata": {
  "kernelspec": {
   "display_name": "Python 3",
   "language": "python",
   "name": "python3"
  },
  "language_info": {
   "codemirror_mode": {
    "name": "ipython",
    "version": 3
   },
   "file_extension": ".py",
   "mimetype": "text/x-python",
   "name": "python",
   "nbconvert_exporter": "python",
   "pygments_lexer": "ipython3",
   "version": "3.7.6"
  }
 },
 "nbformat": 4,
 "nbformat_minor": 2
}
