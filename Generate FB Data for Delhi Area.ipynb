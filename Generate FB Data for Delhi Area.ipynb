{
 "cells": [
  {
   "cell_type": "code",
   "execution_count": 1,
   "metadata": {},
   "outputs": [],
   "source": [
    "import pandas as pd\n",
    "import geopandas as gpd\n",
    "import shapely\n",
    "import os"
   ]
  },
  {
   "cell_type": "code",
   "execution_count": 2,
   "metadata": {},
   "outputs": [],
   "source": [
    "os.chdir(r\"C:\\Users\\dougj\\Documents\\GIS\")\n",
    "fb = pd.read_csv(\"population_as43_2018-10-01_csv\\population_AS43_2018-10-01.csv\")\n",
    "\n",
    "# the coordinates below are for a point in Humayunpur \n",
    "humayunpur = [77.195045, 28.560514]"
   ]
  },
  {
   "cell_type": "code",
   "execution_count": 6,
   "metadata": {},
   "outputs": [],
   "source": [
    "# select rows from fb that are within 1 degree of the humayunpur point\n",
    "radius = 1\n",
    "\n",
    "delhi = fb[(fb.longitude > (humayunpur[0]-radius)) & (fb.longitude < (humayunpur[0]+radius)) & \n",
    "              (fb.latitude > (humayunpur[1]-radius))& (fb.latitude < (humayunpur[1]+radius))]"
   ]
  },
  {
   "cell_type": "code",
   "execution_count": 7,
   "metadata": {},
   "outputs": [
    {
     "data": {
      "text/plain": [
       "2653292"
      ]
     },
     "execution_count": 7,
     "metadata": {},
     "output_type": "execute_result"
    }
   ],
   "source": [
    "len(delhi)"
   ]
  },
  {
   "cell_type": "code",
   "execution_count": 8,
   "metadata": {},
   "outputs": [],
   "source": [
    "delhi.to_csv(\"as43_delhi_area.csv\")"
   ]
  }
 ],
 "metadata": {
  "kernelspec": {
   "display_name": "Python 3",
   "language": "python",
   "name": "python3"
  },
  "language_info": {
   "codemirror_mode": {
    "name": "ipython",
    "version": 3
   },
   "file_extension": ".py",
   "mimetype": "text/x-python",
   "name": "python",
   "nbconvert_exporter": "python",
   "pygments_lexer": "ipython3",
   "version": "3.7.3"
  }
 },
 "nbformat": 4,
 "nbformat_minor": 2
}
