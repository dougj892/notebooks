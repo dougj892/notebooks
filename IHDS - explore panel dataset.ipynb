{
 "cells": [
  {
   "cell_type": "markdown",
   "metadata": {},
   "source": [
    "# Explore IHDS dataset\n",
    "NOTE: I have stopped exploring this dataset because it seems like it will be easier to just use the 2012 dataset to look at ASER scores and private school enrollent\n"
   ]
  },
  {
   "cell_type": "code",
   "execution_count": 2,
   "metadata": {},
   "outputs": [],
   "source": [
    "import pandas as pd\n",
    "import numpy as np\n",
    "import os\n",
    "import matplotlib\n",
    "import matplotlib.pyplot as plt\n",
    "from plotnine import * \n",
    "\n",
    "# change directory to the IHDS individual wide panel dataset\n",
    "# I could also potentially use the individual long dataset (005).  unsure of the difference\n",
    "os.chdir(r\"C:\\Users\\dougj\\Documents\\Data\\IHDS\\Combined panel (Stata)\\DS0003\")"
   ]
  },
  {
   "cell_type": "markdown",
   "metadata": {},
   "source": [
    "# Variables to import\n",
    "In order to analyze the data, I will likely need the following variables:\n",
    "* PBASE - unique ID for each person\n",
    "* HHFAM2, HHFAM2012 - not sure what these are, importing just in case\n",
    "* STATEID\n",
    "* DISTID\n",
    "* PSUID\n",
    "* HHID - \n",
    "* HHSPLITID\n",
    "* PERSONID - It seems like this is the roster ID.  not globally unique\n"
   ]
  },
  {
   "cell_type": "code",
   "execution_count": 13,
   "metadata": {},
   "outputs": [],
   "source": [
    "# chunk_iter = pd.read_stata(\"37382-0003-Data.dta\", chunksize = 1000)\n",
    "# df = next(chunk_iter)\n",
    "df = pd.read_stata(\"37382-0003-Data.dta\")"
   ]
  },
  {
   "cell_type": "code",
   "execution_count": 11,
   "metadata": {},
   "outputs": [
    {
     "data": {
      "text/plain": [
       "Jammu & Kashmir 01    1000\n",
       "Name: STATEID, dtype: int64"
      ]
     },
     "execution_count": 11,
     "metadata": {},
     "output_type": "execute_result"
    }
   ],
   "source": [
    "df['XTA8B']\n",
    "df['STATEID'].value_counts()"
   ]
  },
  {
   "cell_type": "code",
   "execution_count": null,
   "metadata": {},
   "outputs": [],
   "source": []
  }
 ],
 "metadata": {
  "kernelspec": {
   "display_name": "Python 3",
   "language": "python",
   "name": "python3"
  },
  "language_info": {
   "codemirror_mode": {
    "name": "ipython",
    "version": 3
   },
   "file_extension": ".py",
   "mimetype": "text/x-python",
   "name": "python",
   "nbconvert_exporter": "python",
   "pygments_lexer": "ipython3",
   "version": "3.7.3"
  }
 },
 "nbformat": 4,
 "nbformat_minor": 2
}
