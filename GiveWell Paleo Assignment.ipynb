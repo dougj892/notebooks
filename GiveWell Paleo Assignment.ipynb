{
 "cells": [
  {
   "cell_type": "markdown",
   "metadata": {},
   "source": [
    "# Calc CIs directly\n",
    "One thing I found confusing in reading the papers and the meta-analysis is whether they used the baseline data to increase precision.  To figure this out, I calculate the CI from Lindeberg paper "
   ]
  },
  {
   "cell_type": "code",
   "execution_count": 6,
   "metadata": {},
   "outputs": [],
   "source": [
    "sd_t = 1.8\n",
    "n_t = 14\n",
    "sd_c = 2\n",
    "n_c = 15\n",
    "se_diff = ((sd_t**2)/n_t + (sd_c**2)/n_c)**.5\n",
    "\n",
    "from scipy.stats import norm\n",
    "M =norm.ppf(0.975)"
   ]
  },
  {
   "cell_type": "code",
   "execution_count": 13,
   "metadata": {},
   "outputs": [],
   "source": [
    "# the CI for the difference in means, if baseline data is ignored will be M*se\n",
    "diff = 1.5\n",
    "CI = [diff - M*se_diff, diff + M*se_diff]"
   ]
  },
  {
   "cell_type": "code",
   "execution_count": 14,
   "metadata": {},
   "outputs": [
    {
     "data": {
      "text/plain": [
       "[0.11673851137006896, 2.8832614886299313]"
      ]
     },
     "execution_count": 14,
     "metadata": {},
     "output_type": "execute_result"
    }
   ],
   "source": [
    "CI"
   ]
  },
  {
   "cell_type": "code",
   "execution_count": null,
   "metadata": {},
   "outputs": [],
   "source": []
  }
 ],
 "metadata": {
  "kernelspec": {
   "display_name": "Python 3",
   "language": "python",
   "name": "python3"
  },
  "language_info": {
   "codemirror_mode": {
    "name": "ipython",
    "version": 3
   },
   "file_extension": ".py",
   "mimetype": "text/x-python",
   "name": "python",
   "nbconvert_exporter": "python",
   "pygments_lexer": "ipython3",
   "version": "3.7.3"
  }
 },
 "nbformat": 4,
 "nbformat_minor": 2
}
