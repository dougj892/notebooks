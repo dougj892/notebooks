{
 "cells": [
  {
   "cell_type": "code",
   "execution_count": 85,
   "metadata": {},
   "outputs": [],
   "source": [
    "import pandas as pd\n",
    "import numpy as np\n",
    "import os\n",
    "%matplotlib inline"
   ]
  },
  {
   "cell_type": "code",
   "execution_count": 86,
   "metadata": {},
   "outputs": [],
   "source": [
    "os.chdir(r\"C:\\Users\\dougj\\Dropbox (IDinsight)\\Niti Aayog\\Team #1\\Sampling\\PS Selection\\Data\")\n",
    "ps_sizes = pd.read_stata(r\"Araria/fs_data.dta\")\n",
    "ps_sizes['district'] = \"\"\n",
    "ps_sizes = ps_sizes[['ac_no', 'ps_no', 'ps_size', 'TotalVoters']]\n"
   ]
  },
  {
   "cell_type": "code",
   "execution_count": 87,
   "metadata": {},
   "outputs": [
    {
     "name": "stdout",
     "output_type": "stream",
     "text": [
      "couldn't add Barwani\n",
      "ac_no ps_size ps_no E district \n",
      "\n",
      "couldn't add Damoh\n",
      "ac_no ps_size ps_no E district \n",
      "\n",
      "couldn't add Pakur\n",
      "ac_no ps_no ps_size shortfall district \n",
      "\n",
      "couldn't add Sahebganj\n",
      "ps_size shortfall ps_no ac_no district \n",
      "\n",
      "couldn't add Singrauli\n",
      "ac_no ps_size ps_no district \n",
      "\n"
     ]
    }
   ],
   "source": [
    "# loop through each of the folders in the data folder and append \n",
    "ps_sizes = ps_sizes[0:0]\n",
    "for folder in os.listdir():\n",
    "    # print(folder)\n",
    "    temp = pd.read_stata(r\"{}/fs_data.dta\".format(folder))\n",
    "    temp['district']=folder\n",
    "    if 'total_voters' in temp.columns:\n",
    "        temp.rename(columns={'total_voters':'TotalVoters'}, inplace=True)\n",
    "    try:\n",
    "        temp = temp[['ac_no', 'ps_no', 'ps_size', 'TotalVoters', 'district']]\n",
    "        ps_sizes = ps_sizes.append(temp)\n",
    "    except:\n",
    "        print(\"couldn't add {}\".format(folder))\n",
    "        for i in temp.columns:\n",
    "            print(i, end= \" \")\n",
    "        print(\"\\n\")"
   ]
  },
  {
   "cell_type": "code",
   "execution_count": 100,
   "metadata": {},
   "outputs": [],
   "source": [
    "# save the dataset as csv\n",
    "os.chdir(r\"C:\\Users\\dougj\\Documents\\Data\")\n",
    "ps_sizes.to_csv(\"polling_station_sizes.csv\")"
   ]
  }
 ],
 "metadata": {
  "kernelspec": {
   "display_name": "Python 3",
   "language": "python",
   "name": "python3"
  },
  "language_info": {
   "codemirror_mode": {
    "name": "ipython",
    "version": 3
   },
   "file_extension": ".py",
   "mimetype": "text/x-python",
   "name": "python",
   "nbconvert_exporter": "python",
   "pygments_lexer": "ipython3",
   "version": "3.7.3"
  }
 },
 "nbformat": 4,
 "nbformat_minor": 2
}
