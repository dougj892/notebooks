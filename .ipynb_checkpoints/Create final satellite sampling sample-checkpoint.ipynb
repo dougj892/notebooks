{
 "cells": [
  {
   "cell_type": "markdown",
   "metadata": {},
   "source": [
    "# Create final satellite sample\n",
    "This notebook uses Monica's output and Girish's inspection of empty segments to generate a final sample to share with Digital Globe.  To generate the final sample, I...\n",
    "1. Drop segments in Assam or Odisha\n",
    "2. For segments which appear empty, drop them or replace with the full landscan box based on Girish's rec"
   ]
  },
  {
   "cell_type": "code",
   "execution_count": 41,
   "metadata": {},
   "outputs": [],
   "source": [
    "import pandas as pd\n",
    "import numpy as np\n",
    "import geopandas as gpd\n",
    "import os\n",
    "os.chdir(r\"C:\\Users\\dougj\\Documents\\Satellite sampling\")"
   ]
  },
  {
   "cell_type": "code",
   "execution_count": 42,
   "metadata": {},
   "outputs": [],
   "source": [
    "segs = gpd.read_file(r\"Final sample\\140_segments\\selected_segments.shp\")\n",
    "segs.drop(columns = ['Name','descriptio', 'timestamp', 'begin', 'end', 'altitudeMo', 'extrude','tessellate', 'visibility', 'drawOrder', 'icon'], inplace = True)"
   ]
  },
  {
   "cell_type": "code",
   "execution_count": 43,
   "metadata": {},
   "outputs": [],
   "source": [
    "# merge with original dataset which contains state information\n",
    "selected_ls_boxes = pd.read_csv(r\"Final sample\\Selected landscan boxes, sub-boxes.csv\")\n",
    "segs = segs.merge(selected_ls_boxes, how = 'left')"
   ]
  },
  {
   "cell_type": "code",
   "execution_count": 44,
   "metadata": {},
   "outputs": [
    {
     "data": {
      "text/plain": [
       "bihar        20\n",
       "rajasthan    20\n",
       "MP           20\n",
       "jharkhand    20\n",
       "UP           20\n",
       "Name: state, dtype: int64"
      ]
     },
     "execution_count": 44,
     "metadata": {},
     "output_type": "execute_result"
    }
   ],
   "source": [
    "# delete rows from Odisha and Assam\n",
    "segs = segs.loc[(segs.state != 'assam') & (segs.state != 'odisha')]\n",
    "segs.state.value_counts()"
   ]
  },
  {
   "cell_type": "code",
   "execution_count": 45,
   "metadata": {},
   "outputs": [
    {
     "data": {
      "text/plain": [
       "No     68\n",
       "Yes    32\n",
       "Name: empty_seg, dtype: int64"
      ]
     },
     "execution_count": 45,
     "metadata": {},
     "output_type": "execute_result"
    }
   ],
   "source": [
    "# read and clean Girish's inspection results\n",
    "girish = pd.read_csv(r\"Manual\\Inspection of empty segments.csv\")\n",
    "girish.rename(columns = {'Segment ID' : 'unique_id', 'Empty Segment':'empty_seg', 'Segment Number': 'num_segmen',\n",
    "                         'If empty segment, can we survey the entire Landscan Box' : 'survey_box'}, inplace = True )\n",
    "\n",
    "# there are 3 segments with one structure. change to indicate non empty.  \n",
    "girish.loc[girish.empty_seg == 'Yes, one structure', 'empty_seg'] = 'No'\n",
    "\n",
    "# there is one segment with just a powerplant. indicate non-empty\n",
    "girish.loc[girish.empty_seg == 'Yes, powergrid/thermal plant', 'empty_seg'] = 'Yes'\n",
    "girish.empty_seg.value_counts()"
   ]
  },
  {
   "cell_type": "markdown",
   "metadata": {},
   "source": [
    "# Replace empty segments with entire boxes based on Girish's rec"
   ]
  },
  {
   "cell_type": "code",
   "execution_count": 46,
   "metadata": {},
   "outputs": [],
   "source": [
    "# find segments we are going to replace with full boxes\n",
    "replace_boxes = girish.loc[girish.survey_box == \"Yes\", 'unique_id']\n",
    "\n",
    "replace_boxes.drop_duplicates(inplace = True)\n",
    "replace_boxes = pd.DataFrame(data = replace_boxes)\n",
    "\n",
    "# get the box geometry for these boxes from the full landscan data\n",
    "original_boxes = gpd.read_file(r\"Final sample\\Selected landscan boxes, sub-boxes shape\\Selected landscan boxes, sub-boxes shape.shp\")\n",
    "replacements = replace_boxes.merge(original_boxes, how =\"left\")\n",
    "replacements.rename(columns = {'geometry':'geom_new'}, inplace = True)\n",
    "\n",
    "# merge the box info with the segs df, copy the new geom to geometry for full box\n",
    "segs = segs.merge(replacements, on= 'unique_id', how='left')\n",
    "segs.loc[~segs.geom_new.isna(), 'geometry'] = segs.geom_new\n",
    "\n",
    "# drop the duplicate row (since there were two segments per box)\n",
    "segs.loc[~segs.geom_new.isna(), 'num_segmen'] = 1\n",
    "segs.drop_duplicates(subset = ['unique_id', 'num_segmen'], inplace = True)\n",
    "\n",
    "# tag those rows where we replace the segment with a box (so that we can inspect later)\n",
    "segs['replace_w_box']=0\n",
    "segs.loc[~segs.geom_new.isna(), 'replace_w_box'] = 1\n",
    "segs.drop(columns = 'geom_new', inplace = True)"
   ]
  },
  {
   "cell_type": "code",
   "execution_count": 47,
   "metadata": {},
   "outputs": [
    {
     "data": {
      "text/html": [
       "<div>\n",
       "<style scoped>\n",
       "    .dataframe tbody tr th:only-of-type {\n",
       "        vertical-align: middle;\n",
       "    }\n",
       "\n",
       "    .dataframe tbody tr th {\n",
       "        vertical-align: top;\n",
       "    }\n",
       "\n",
       "    .dataframe thead th {\n",
       "        text-align: right;\n",
       "    }\n",
       "</style>\n",
       "<table border=\"1\" class=\"dataframe\">\n",
       "  <thead>\n",
       "    <tr style=\"text-align: right;\">\n",
       "      <th></th>\n",
       "      <th>new_pop</th>\n",
       "      <th>num_subboxes</th>\n",
       "    </tr>\n",
       "  </thead>\n",
       "  <tbody>\n",
       "    <tr>\n",
       "      <th>9</th>\n",
       "      <td>1501.00</td>\n",
       "      <td>4</td>\n",
       "    </tr>\n",
       "    <tr>\n",
       "      <th>13</th>\n",
       "      <td>360.00</td>\n",
       "      <td>1</td>\n",
       "    </tr>\n",
       "    <tr>\n",
       "      <th>22</th>\n",
       "      <td>95.00</td>\n",
       "      <td>1</td>\n",
       "    </tr>\n",
       "    <tr>\n",
       "      <th>23</th>\n",
       "      <td>26.00</td>\n",
       "      <td>1</td>\n",
       "    </tr>\n",
       "    <tr>\n",
       "      <th>29</th>\n",
       "      <td>146.00</td>\n",
       "      <td>1</td>\n",
       "    </tr>\n",
       "    <tr>\n",
       "      <th>31</th>\n",
       "      <td>500.75</td>\n",
       "      <td>4</td>\n",
       "    </tr>\n",
       "    <tr>\n",
       "      <th>32</th>\n",
       "      <td>1619.00</td>\n",
       "      <td>1</td>\n",
       "    </tr>\n",
       "    <tr>\n",
       "      <th>37</th>\n",
       "      <td>1101.00</td>\n",
       "      <td>1</td>\n",
       "    </tr>\n",
       "    <tr>\n",
       "      <th>39</th>\n",
       "      <td>675.00</td>\n",
       "      <td>1</td>\n",
       "    </tr>\n",
       "    <tr>\n",
       "      <th>41</th>\n",
       "      <td>314.00</td>\n",
       "      <td>1</td>\n",
       "    </tr>\n",
       "    <tr>\n",
       "      <th>49</th>\n",
       "      <td>1055.00</td>\n",
       "      <td>1</td>\n",
       "    </tr>\n",
       "    <tr>\n",
       "      <th>57</th>\n",
       "      <td>1501.00</td>\n",
       "      <td>4</td>\n",
       "    </tr>\n",
       "    <tr>\n",
       "      <th>60</th>\n",
       "      <td>360.00</td>\n",
       "      <td>1</td>\n",
       "    </tr>\n",
       "    <tr>\n",
       "      <th>65</th>\n",
       "      <td>95.00</td>\n",
       "      <td>1</td>\n",
       "    </tr>\n",
       "    <tr>\n",
       "      <th>66</th>\n",
       "      <td>26.00</td>\n",
       "      <td>1</td>\n",
       "    </tr>\n",
       "    <tr>\n",
       "      <th>71</th>\n",
       "      <td>146.00</td>\n",
       "      <td>1</td>\n",
       "    </tr>\n",
       "    <tr>\n",
       "      <th>72</th>\n",
       "      <td>500.75</td>\n",
       "      <td>4</td>\n",
       "    </tr>\n",
       "    <tr>\n",
       "      <th>73</th>\n",
       "      <td>1619.00</td>\n",
       "      <td>1</td>\n",
       "    </tr>\n",
       "    <tr>\n",
       "      <th>78</th>\n",
       "      <td>1101.00</td>\n",
       "      <td>1</td>\n",
       "    </tr>\n",
       "    <tr>\n",
       "      <th>82</th>\n",
       "      <td>314.00</td>\n",
       "      <td>1</td>\n",
       "    </tr>\n",
       "    <tr>\n",
       "      <th>89</th>\n",
       "      <td>840.00</td>\n",
       "      <td>1</td>\n",
       "    </tr>\n",
       "  </tbody>\n",
       "</table>\n",
       "</div>"
      ],
      "text/plain": [
       "    new_pop  num_subboxes\n",
       "9   1501.00             4\n",
       "13   360.00             1\n",
       "22    95.00             1\n",
       "23    26.00             1\n",
       "29   146.00             1\n",
       "31   500.75             4\n",
       "32  1619.00             1\n",
       "37  1101.00             1\n",
       "39   675.00             1\n",
       "41   314.00             1\n",
       "49  1055.00             1\n",
       "57  1501.00             4\n",
       "60   360.00             1\n",
       "65    95.00             1\n",
       "66    26.00             1\n",
       "71   146.00             1\n",
       "72   500.75             4\n",
       "73  1619.00             1\n",
       "78  1101.00             1\n",
       "82   314.00             1\n",
       "89   840.00             1"
      ]
     },
     "execution_count": 47,
     "metadata": {},
     "output_type": "execute_result"
    }
   ],
   "source": [
    "# tag those segments Girish recommends dropping\n",
    "segs_to_drop = girish.loc[girish.survey_box == \"No\", ['unique_id', 'num_segmen']]\n",
    "segs_to_drop['to_drop'] =1\n",
    "segs= segs.merge(segs_to_drop, on = ['unique_id', 'num_segmen'], how='left')\n",
    "\n",
    "# before dropping the rows, save the shapefile so that I can inspect in QGIS \n",
    "# and look at the original population estimates for the box they were in\n",
    "segs.to_file(r\"Processed\\Segments w Girish recs\\temp_segs.shp\")\n",
    "segs[segs.to_drop==1][['new_pop', 'num_subboxes']]"
   ]
  },
  {
   "cell_type": "code",
   "execution_count": 48,
   "metadata": {},
   "outputs": [],
   "source": [
    "# drop the segments Girish recommends dropping and save as the final dataset\n",
    "segs= segs[segs.to_drop !=1]\n",
    "segs.to_file(r\"Final sample\\Final selected segments\\final_segments.shp\")"
   ]
  },
  {
   "cell_type": "code",
   "execution_count": 56,
   "metadata": {},
   "outputs": [],
   "source": [
    "# create and save dataset of just the landscan box /sub-box\n",
    "box_ids = segs[['unique_id', 'population', 'state', 'new_pop', 'num_subboxes', 'subbox']]\n",
    "entire_boxes = original_boxes.merge(box_ids, on='unique_id', how='inner')\n",
    "entire_boxes.drop_duplicates('unique_id', inplace = True)\n",
    "entire_boxes.to_file(r\"Final sample\\Box or subbox for final segments\\boxes_final.shp\")"
   ]
  },
  {
   "cell_type": "code",
   "execution_count": null,
   "metadata": {},
   "outputs": [],
   "source": []
  }
 ],
 "metadata": {
  "kernelspec": {
   "display_name": "Python 3",
   "language": "python",
   "name": "python3"
  },
  "language_info": {
   "codemirror_mode": {
    "name": "ipython",
    "version": 3
   },
   "file_extension": ".py",
   "mimetype": "text/x-python",
   "name": "python",
   "nbconvert_exporter": "python",
   "pygments_lexer": "ipython3",
   "version": "3.7.3"
  }
 },
 "nbformat": 4,
 "nbformat_minor": 2
}
