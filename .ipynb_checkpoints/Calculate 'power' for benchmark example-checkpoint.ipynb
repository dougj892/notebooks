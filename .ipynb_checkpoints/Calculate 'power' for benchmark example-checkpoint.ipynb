{
 "cells": [
  {
   "cell_type": "markdown",
   "metadata": {},
   "source": [
    "The code below calculates the probability of coming to a decision that the effect of new intervention described in the working paper \"from what works to specific decisions\" is greater than .2 for various hypothetical study designs and decision rules.\n",
    "\n",
    "## Step 1: Calculate standard error for given study design\n",
    "First, we calculate the standard error for a given study design. For an RCT with no baseline and equal size treatment and control groups, the standard error of the difference between treatment and control is...\n",
    "\n",
    "$$ \\hat{\\sigma_{\\Delta}}=\\sqrt{\\frac{2\\sigma_y^2}{N}} $$\n",
    "\n",
    "Where N is the sample size for the treatment or control groups (separately, not together) and $\\sigma_y^2$ is the variance of our outcome measure (assumed to be 1 since we use height for age z-scores as our outcome measure).\n",
    "\n",
    "## Step 2: Calculate rejection thresholds for each hypothesis test and overall\n",
    "We then calculate the \"rejection thresholds\" for each hypothesis test.  The rejection threshold is the smallest value for our estimate of the effect size, $\\hat{\\theta} $, above which we will reject the hypothesis test. \n",
    "\n",
    "Since the first hypothesis test uses $ H_o: \\theta <= 0; H_1: \\theta > 0, \\alpha = .05 $, the rejection threshold is...\n",
    "\n",
    "$$ rejthresh1 = -\\Phi^{-1}(.05)*\\hat{\\sigma_{\\Delta}} = 1.64\\hat{\\sigma_{\\Delta}}$$\n",
    "\n",
    "Similarly, since the second hypothesis test uses $ H_o: \\theta <= .2; H_1: \\theta > .2, \\alpha = .2 $, the rejection threshold is...\n",
    "\n",
    "$$ rejthresh2 = -\\Phi^{-1}(.2)*\\hat{\\sigma_{\\Delta}}+.2 = .84\\hat{\\sigma_{\\Delta}}+.2$$\n",
    "\n",
    "The overall rejection threshold, i.e. the smallest value for  $\\hat{\\theta} $ for which we would reject both hypotheses and opt for the new intervention, is just the max of these two rejection thresholds, i.e. $ rejthreshoverall = max(rejthresh1, rejthresh2) $.  Note that this means that rejthresh2 will be the binding threshold if $\\hat{\\sigma_{\\Delta}} < .25 $ and that rejthresh1 will be the binding threshold otherwise.\n",
    "\n",
    "## Step 3: Calculate power for given effect size and overall rejection threshold\n",
    "Finally, we calculate the overall \"power\" for a given rejection threshold and true effect size $\\theta$. By \"power\" I mean the probability that we reject both hypotheses for a given study design, set of hypotheses, and effect size. Power is the probability that the estimated effect size is larger than the overall threshold which is...\n",
    "\n",
    "$$ power = 1-\\Phi(\\frac{rejthresh-\\theta}{\\hat{\\sigma_{\\Delta}}}) $$\n",
    "\n"
   ]
  },
  {
   "cell_type": "code",
   "execution_count": 58,
   "metadata": {},
   "outputs": [],
   "source": [
    "import numpy as np\n",
    "from scipy.stats import norm"
   ]
  },
  {
   "cell_type": "code",
   "execution_count": 59,
   "metadata": {},
   "outputs": [
    {
     "name": "stdout",
     "output_type": "stream",
     "text": [
      "Standard error is 0.082\n",
      "For given design,threshold 1 is 0.13, threshold 2 is 0.27 and overall thresh is 0.27 \n"
     ]
    }
   ],
   "source": [
    "# Calculate standard error and rejection thresholds for given RCT design and hypothesis test design\n",
    "\n",
    "# RCT design parameters and calculation of standard error\n",
    "sigma = 1 # variance of HAZ should be roughly one\n",
    "N = 300 # sample size for treat or control (not both together)\n",
    "se_eff = (2*sigma**2/N)**.5\n",
    "print(\"Standard error is {0:.3f}\".format(se_eff))\n",
    "\n",
    "# hypothesis test parameters\n",
    "alpha1 = .05\n",
    "alpha2 = .2\n",
    "benchmark = .2\n",
    "\n",
    "# calculate rejection thresholds\n",
    "rej_thresh1 = -se_eff*norm.ppf(alpha1)\n",
    "rej_thresh2 = -se_eff*norm.ppf(alpha2)+ benchmark\n",
    "rej_thresh = max(rej_thresh1, rej_thresh2)\n",
    "print(\"For given design,threshold 1 is {0:.2f}, threshold 2 is {1:.2f} and overall thresh is {2:.2f} \".format(rej_thresh1, rej_thresh2, rej_thresh))\n"
   ]
  },
  {
   "cell_type": "code",
   "execution_count": 67,
   "metadata": {},
   "outputs": [
    {
     "name": "stdout",
     "output_type": "stream",
     "text": [
      "For given design and theta, \"power\" is 0.80.\n"
     ]
    }
   ],
   "source": [
    "# Calculate \"power\" for given rejection threshold and true effect size.  \n",
    "# By \"power\" I mean the probability of rejection both hypotheses for a given study design, set of hypothesis tests, and effect size\n",
    "effect_size = .338\n",
    "power = 1-norm.cdf((rej_thresh-effect_size)/se_eff)\n",
    "print(\"For given design and theta, \\\"power\\\" is {0:.2f}.\".format(power))"
   ]
  },
  {
   "cell_type": "code",
   "execution_count": null,
   "metadata": {},
   "outputs": [],
   "source": []
  }
 ],
 "metadata": {
  "kernelspec": {
   "display_name": "Python 3",
   "language": "python",
   "name": "python3"
  },
  "language_info": {
   "codemirror_mode": {
    "name": "ipython",
    "version": 3
   },
   "file_extension": ".py",
   "mimetype": "text/x-python",
   "name": "python",
   "nbconvert_exporter": "python",
   "pygments_lexer": "ipython3",
   "version": "3.7.3"
  }
 },
 "nbformat": 4,
 "nbformat_minor": 2
}
